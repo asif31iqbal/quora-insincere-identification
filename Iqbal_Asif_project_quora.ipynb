{
 "cells": [
  {
   "cell_type": "markdown",
   "metadata": {},
   "source": [
    "# Quora Insincere Questions Classification\n",
    "\n",
    "Competition [here](https://www.kaggle.com/c/quora-insincere-questions-classification/)."
   ]
  },
  {
   "cell_type": "markdown",
   "metadata": {},
   "source": [
    "### Necessary imports"
   ]
  },
  {
   "cell_type": "code",
   "execution_count": 3,
   "metadata": {
    "scrolled": true
   },
   "outputs": [],
   "source": [
    "import pandas as pd\n",
    "import itertools\n",
    "import numpy as np\n",
    "# import xgboost as xgb\n",
    "from tqdm import tqdm\n",
    "from sklearn.svm import SVC\n",
    "from sklearn.metrics import f1_score\n",
    "\n",
    "from sklearn import preprocessing, decomposition, model_selection, metrics, pipeline\n",
    "from sklearn.model_selection import GridSearchCV\n",
    "from sklearn.feature_extraction.text import TfidfVectorizer, CountVectorizer\n",
    "from sklearn.decomposition import TruncatedSVD\n",
    "from sklearn.linear_model import LogisticRegression\n",
    "from sklearn.model_selection import train_test_split\n",
    "from sklearn.naive_bayes import MultinomialNB, GaussianNB\n",
    "from sklearn.metrics import confusion_matrix, classification_report\n",
    "from sklearn.preprocessing import StandardScaler, normalize\n",
    "\n",
    "import nltk\n",
    "from nltk import word_tokenize\n",
    "from nltk.corpus import stopwords\n",
    "import matplotlib.pyplot as plt\n",
    "import math\n",
    "from scipy import stats\n",
    "from collections import Counter\n",
    "\n",
    "from nltk.stem import WordNetLemmatizer\n",
    "from nltk.stem import PorterStemmer\n",
    "from nltk.tokenize import sent_tokenize, word_tokenize\n",
    "from nltk.stem import SnowballStemmer\n",
    "from nltk.stem.lancaster import LancasterStemmer\n",
    "import seaborn as sns\n",
    "%matplotlib inline"
   ]
  },
  {
   "cell_type": "markdown",
   "metadata": {},
   "source": [
    "### Make behaviour deterministic and reproducable"
   ]
  },
  {
   "cell_type": "code",
   "execution_count": 96,
   "metadata": {},
   "outputs": [],
   "source": [
    "from numpy.random import seed\n",
    "seed(1)\n",
    "from tensorflow import set_random_seed\n",
    "set_random_seed(2)"
   ]
  },
  {
   "cell_type": "markdown",
   "metadata": {},
   "source": [
    "### All keras related import"
   ]
  },
  {
   "cell_type": "code",
   "execution_count": null,
   "metadata": {},
   "outputs": [],
   "source": [
    "from keras.models import Sequential\n",
    "from keras.layers.recurrent import LSTM, GRU\n",
    "from keras.layers.core import Dense, Activation, Dropout, Layer, K\n",
    "from keras.layers.embeddings import Embedding\n",
    "from keras.layers.normalization import BatchNormalization\n",
    "from keras.utils import np_utils\n",
    "from keras.layers import GlobalMaxPooling1D, Conv1D, MaxPooling1D, Flatten, Bidirectional, SpatialDropout1D\n",
    "from keras.preprocessing import sequence, text\n",
    "from keras.callbacks import EarlyStopping, Callback"
   ]
  },
  {
   "cell_type": "markdown",
   "metadata": {},
   "source": [
    "### Read the data provided by quora"
   ]
  },
  {
   "cell_type": "code",
   "execution_count": 3,
   "metadata": {},
   "outputs": [],
   "source": [
    "d_train = pd.read_csv('data/train.csv')\n",
    "d_test = pd.read_csv('data/test.csv')\n",
    "d_sample = pd.read_csv('data/sample_submission.csv')"
   ]
  },
  {
   "cell_type": "code",
   "execution_count": 124,
   "metadata": {},
   "outputs": [
    {
     "data": {
      "text/plain": [
       "1306122"
      ]
     },
     "execution_count": 124,
     "metadata": {},
     "output_type": "execute_result"
    }
   ],
   "source": [
    "len(d_train)"
   ]
  },
  {
   "cell_type": "markdown",
   "metadata": {},
   "source": [
    "## Explore the distrbution of the data"
   ]
  },
  {
   "cell_type": "code",
   "execution_count": 76,
   "metadata": {},
   "outputs": [
    {
     "data": {
      "image/png": "[encoded data removed]",
      "text/plain": [
       "<Figure size 432x432 with 1 Axes>"
      ]
     },
     "metadata": {},
     "output_type": "display_data"
    }
   ],
   "source": [
    "# ax = sns.countplot(x=\"target\", data=d_train)\n",
    "# ax.set_title('Class Distribution')\n",
    "# plt.show()\n",
    "\n",
    "classes = ['sincere', 'insincere']\n",
    "fig = plt.figure(figsize=(6,6))\n",
    "\n",
    "# def show_distribution(y)\n",
    "c = Counter(d_train['target'])\n",
    "counts = [0, 0]\n",
    "for k, count in c.items():\n",
    "    counts[k] = count\n",
    "\n",
    "ax = plt.pie(counts, labels=classes, autopct='%1.0f%%', pctdistance=0.8, labeldistance=1.2)\n",
    "plt.show()"
   ]
  },
  {
   "cell_type": "code",
   "execution_count": 146,
   "metadata": {},
   "outputs": [
    {
     "data": {
      "text/plain": [
       "(1225312, 3)"
      ]
     },
     "execution_count": 146,
     "metadata": {},
     "output_type": "execute_result"
    }
   ],
   "source": [
    "d_train[d_train.target == 0].shape"
   ]
  },
  {
   "cell_type": "markdown",
   "metadata": {},
   "source": [
    "## Split the Quora provided training set into a training and validation segment"
   ]
  },
  {
   "cell_type": "code",
   "execution_count": 25,
   "metadata": {},
   "outputs": [],
   "source": [
    "df_train, df_val = train_test_split(d_train, \n",
    "                                   stratify=d_train['target'], \n",
    "                                   random_state=42, \n",
    "                                   test_size=0.5, shuffle=True)"
   ]
  },
  {
   "cell_type": "markdown",
   "metadata": {},
   "source": [
    "### Required NLTK downloads"
   ]
  },
  {
   "cell_type": "code",
   "execution_count": 4,
   "metadata": {},
   "outputs": [
    {
     "name": "stdout",
     "output_type": "stream",
     "text": [
      "[nltk_data] Downloading package stopwords to\n",
      "[nltk_data]     /Users/asifiqbal/nltk_data...\n",
      "[nltk_data]   Package stopwords is already up-to-date!\n",
      "[nltk_data] Downloading package punkt to /Users/asifiqbal/nltk_data...\n",
      "[nltk_data]   Package punkt is already up-to-date!\n",
      "[nltk_data] Downloading package wordnet to\n",
      "[nltk_data]     /Users/asifiqbal/nltk_data...\n",
      "[nltk_data]   Package wordnet is already up-to-date!\n"
     ]
    },
    {
     "data": {
      "text/plain": [
       "True"
      ]
     },
     "execution_count": 4,
     "metadata": {},
     "output_type": "execute_result"
    }
   ],
   "source": [
    "nltk.download('stopwords')\n",
    "nltk.download('punkt')\n",
    "nltk.download('wordnet')"
   ]
  },
  {
   "cell_type": "markdown",
   "metadata": {},
   "source": [
    "### Define utility method for text tokenization and normalization "
   ]
  },
  {
   "cell_type": "code",
   "execution_count": 26,
   "metadata": {},
   "outputs": [],
   "source": [
    "ls = LancasterStemmer()\n",
    "lem = WordNetLemmatizer()\n",
    "stop_words = stopwords.words('english')\n",
    "\n",
    "def lexicon_normalize(text):\n",
    "    words = word_tokenize(text) \n",
    "    words = [w for w in words if not w in stop_words]\n",
    "    \n",
    "    # 1- Stemming\n",
    "#     words_stem = [ls.stem(w) for w in words]\n",
    "    \n",
    "    # 2- Lemmatization\n",
    "#     words_lem = [lem.lemmatize(w) for w in words_stem]\n",
    "    return ' '.join(words)"
   ]
  },
  {
   "cell_type": "code",
   "execution_count": 27,
   "metadata": {},
   "outputs": [
    {
     "name": "stderr",
     "output_type": "stream",
     "text": [
      "/Users/asifiqbal/Development/anaconda/anaconda3/envs/asif_keras/lib/python3.6/site-packages/ipykernel_launcher.py:1: SettingWithCopyWarning: \n",
      "A value is trying to be set on a copy of a slice from a DataFrame.\n",
      "Try using .loc[row_indexer,col_indexer] = value instead\n",
      "\n",
      "See the caveats in the documentation: http://pandas.pydata.org/pandas-docs/stable/indexing.html#indexing-view-versus-copy\n",
      "  \"\"\"Entry point for launching an IPython kernel.\n",
      "/Users/asifiqbal/Development/anaconda/anaconda3/envs/asif_keras/lib/python3.6/site-packages/ipykernel_launcher.py:2: SettingWithCopyWarning: \n",
      "A value is trying to be set on a copy of a slice from a DataFrame.\n",
      "Try using .loc[row_indexer,col_indexer] = value instead\n",
      "\n",
      "See the caveats in the documentation: http://pandas.pydata.org/pandas-docs/stable/indexing.html#indexing-view-versus-copy\n",
      "  \n"
     ]
    }
   ],
   "source": [
    "df_train['question_text'] = df_train['question_text'].apply(lexicon_normalize)\n",
    "df_val['question_text'] = df_val['question_text'].apply(lexicon_normalize)"
   ]
  },
  {
   "cell_type": "code",
   "execution_count": 28,
   "metadata": {},
   "outputs": [
    {
     "data": {
      "text/html": [
       "<div>\n",
       "<style scoped>\n",
       "    .dataframe tbody tr th:only-of-type {\n",
       "        vertical-align: middle;\n",
       "    }\n",
       "\n",
       "    .dataframe tbody tr th {\n",
       "        vertical-align: top;\n",
       "    }\n",
       "\n",
       "    .dataframe thead th {\n",
       "        text-align: right;\n",
       "    }\n",
       "</style>\n",
       "<table border=\"1\" class=\"dataframe\">\n",
       "  <thead>\n",
       "    <tr style=\"text-align: right;\">\n",
       "      <th></th>\n",
       "      <th>qid</th>\n",
       "      <th>question_text</th>\n",
       "      <th>target</th>\n",
       "    </tr>\n",
       "  </thead>\n",
       "  <tbody>\n",
       "    <tr>\n",
       "      <th>130809</th>\n",
       "      <td>1997303f75a0257279d3</td>\n",
       "      <td>Why become data science manager stop individua...</td>\n",
       "      <td>0</td>\n",
       "    </tr>\n",
       "    <tr>\n",
       "      <th>36523</th>\n",
       "      <td>0724e0ed554a08117e30</td>\n",
       "      <td>Is true Mexicans treated like second class cit...</td>\n",
       "      <td>0</td>\n",
       "    </tr>\n",
       "    <tr>\n",
       "      <th>1109227</th>\n",
       "      <td>d95ba7dbe88b1288cdfe</td>\n",
       "      <td>Why I see psychiatrist related ?</td>\n",
       "      <td>0</td>\n",
       "    </tr>\n",
       "    <tr>\n",
       "      <th>349685</th>\n",
       "      <td>4488308d81ce3ee7a7da</td>\n",
       "      <td>Why China want capture countries ?</td>\n",
       "      <td>0</td>\n",
       "    </tr>\n",
       "    <tr>\n",
       "      <th>341120</th>\n",
       "      <td>42d2135f36b1f8bec9ed</td>\n",
       "      <td>What best patient interaction doctor ?</td>\n",
       "      <td>0</td>\n",
       "    </tr>\n",
       "  </tbody>\n",
       "</table>\n",
       "</div>"
      ],
      "text/plain": [
       "                          qid  \\\n",
       "130809   1997303f75a0257279d3   \n",
       "36523    0724e0ed554a08117e30   \n",
       "1109227  d95ba7dbe88b1288cdfe   \n",
       "349685   4488308d81ce3ee7a7da   \n",
       "341120   42d2135f36b1f8bec9ed   \n",
       "\n",
       "                                             question_text  target  \n",
       "130809   Why become data science manager stop individua...       0  \n",
       "36523    Is true Mexicans treated like second class cit...       0  \n",
       "1109227                   Why I see psychiatrist related ?       0  \n",
       "349685                  Why China want capture countries ?       0  \n",
       "341120              What best patient interaction doctor ?       0  "
      ]
     },
     "execution_count": 28,
     "metadata": {},
     "output_type": "execute_result"
    }
   ],
   "source": [
    "df_train.head(5)"
   ]
  },
  {
   "cell_type": "markdown",
   "metadata": {},
   "source": [
    "### Prepare the training, validation and test data sets. We prepare 3 training and 3 validation sets here.\n",
    "\n",
    "- First training set has sincere:insincere ratio as the true distribution (94:6)\n",
    "- Second training est has sincere:insincere ratio as 1:1\n",
    "- Third training est has sincere:insincere ratio as 2:1\n",
    "- Validation and test datasets have sincere:insincere ratio as the true distribution (94:6)"
   ]
  },
  {
   "cell_type": "code",
   "execution_count": 29,
   "metadata": {},
   "outputs": [
    {
     "name": "stderr",
     "output_type": "stream",
     "text": [
      "/Users/asifiqbal/Development/anaconda/anaconda3/envs/asif_keras/lib/python3.6/site-packages/sklearn/model_selection/_split.py:2069: FutureWarning: From version 0.21, test_size will always complement train_size unless both are specified.\n",
      "  FutureWarning)\n"
     ]
    }
   ],
   "source": [
    "n = len(df_train)\n",
    "\n",
    "# prepare train sets\n",
    "df_train1, df_train2, df_train3 = df_train[:math.ceil(n/3)], \\\n",
    "                                   df_train[math.ceil(n/3):math.ceil(2 * n/3)], \\\n",
    "                                   df_train[math.ceil(2 * n/3):]\n",
    "\n",
    "df_train1, _ = train_test_split(df_train1, \n",
    "                              stratify=df_train1['target'], \n",
    "                              random_state=42, \n",
    "                              train_size=0.1, shuffle=True)\n",
    "\n",
    "df_train2 = pd.concat([df_train2[df_train2['target'] == 0].sample(n=10884, random_state=42),\n",
    "                     df_train2[df_train2['target'] == 1].sample(n=10884, random_state=42)])\n",
    "\n",
    "df_train3 = pd.concat([df_train3[df_train3['target'] == 0].sample(n=14512, random_state=42),\n",
    "                     df_train3[df_train3['target'] == 1].sample(n=7256, random_state=42)])\n",
    "\n",
    "\n",
    "x_train_sets = [df_train1['question_text'], df_train2['question_text'], \n",
    "                df_train3['question_text']]\n",
    "\n",
    "y_train_sets = [df_train1['target'], df_train2['target'], \n",
    "                df_train3['target']]\n",
    "\n",
    "# prepare validation sets\n",
    "\n",
    "x_val_sets = []\n",
    "y_val_sets = []\n",
    "\n",
    "n = len(df_val)\n",
    "\n",
    "for i in range(3):\n",
    "    val_set = df_val[math.ceil(i * n/5):math.ceil((i + 1) * n/5)]\n",
    "    val_set = val_set.sample(frac=0.04)\n",
    "    x_val_sets.append(val_set['question_text'])\n",
    "    y_val_sets.append(val_set['target'])"
   ]
  },
  {
   "cell_type": "code",
   "execution_count": 82,
   "metadata": {},
   "outputs": [
    {
     "data": {
      "text/plain": [
       "(52245, 100)"
      ]
     },
     "execution_count": 82,
     "metadata": {},
     "output_type": "execute_result"
    }
   ],
   "source": [
    "df_test_own.shape"
   ]
  },
  {
   "cell_type": "code",
   "execution_count": 55,
   "metadata": {},
   "outputs": [],
   "source": [
    "df_test_own = df_val[math.ceil(3 * n/5):n]\n",
    "df_test_own = df_test_own.sample(frac=0.2)"
   ]
  },
  {
   "cell_type": "code",
   "execution_count": 84,
   "metadata": {},
   "outputs": [
    {
     "data": {
      "text/plain": [
       "139962"
      ]
     },
     "execution_count": 84,
     "metadata": {},
     "output_type": "execute_result"
    }
   ],
   "source": [
    "len(word_index)"
   ]
  },
  {
   "cell_type": "code",
   "execution_count": 56,
   "metadata": {},
   "outputs": [
    {
     "data": {
      "text/plain": [
       "(52245, 3)"
      ]
     },
     "execution_count": 56,
     "metadata": {},
     "output_type": "execute_result"
    }
   ],
   "source": [
    "df_test_own.shape"
   ]
  },
  {
   "cell_type": "markdown",
   "metadata": {},
   "source": [
    "### Utility method for plotting confusion matrix"
   ]
  },
  {
   "cell_type": "code",
   "execution_count": 32,
   "metadata": {},
   "outputs": [],
   "source": [
    "classes = ['sincere', 'insincere']\n",
    "def plot_confusion_matrix(cm, classes,\n",
    "                          normalize=False,\n",
    "                          title='Confusion matrix',\n",
    "                          cmap=plt.cm.Blues):\n",
    "    \"\"\"\n",
    "    This function prints and plots the confusion matrix.\n",
    "    Normalization can be applied by setting `normalize=True`.\n",
    "    \"\"\"\n",
    "    if normalize:\n",
    "        cm = cm.astype('float') / cm.sum(axis=1)[:, np.newaxis]\n",
    "        print(\"Normalized confusion matrix\")\n",
    "    else:\n",
    "        print('Confusion matrix, without normalization')\n",
    "\n",
    "    plt.imshow(cm, interpolation='nearest', cmap=cmap)\n",
    "    plt.title(title)\n",
    "    plt.colorbar()\n",
    "    tick_marks = np.arange(len(classes))\n",
    "    plt.xticks(tick_marks, classes, rotation=45)\n",
    "    plt.yticks(tick_marks, classes)\n",
    "\n",
    "    fmt = '.2f' if normalize else 'd'\n",
    "    thresh = cm.max() / 2.\n",
    "    for i, j in itertools.product(range(cm.shape[0]), range(cm.shape[1])):\n",
    "        plt.text(j, i, format(cm[i, j], fmt),\n",
    "                 horizontalalignment=\"center\",\n",
    "                 color=\"white\" if cm[i, j] > thresh else \"black\")\n",
    "\n",
    "    plt.tight_layout()\n",
    "    plt.ylabel('True label')\n",
    "    plt.xlabel('Predicted label')\n",
    "    \n",
    "    return cm"
   ]
  },
  {
   "cell_type": "markdown",
   "metadata": {},
   "source": [
    "## Pre-experimentation with Logistic Regression"
   ]
  },
  {
   "cell_type": "markdown",
   "metadata": {},
   "source": [
    "### TF-IDF vectors"
   ]
  },
  {
   "cell_type": "code",
   "execution_count": 112,
   "metadata": {},
   "outputs": [
    {
     "data": {
      "text/plain": [
       "TfidfVectorizer(analyzer='word', binary=False, decode_error='strict',\n",
       "        dtype=<class 'numpy.float64'>, encoding='utf-8', input='content',\n",
       "        lowercase=True, max_df=1.0, max_features=None, min_df=3,\n",
       "        ngram_range=(1, 3), norm='l2', preprocessor=None, smooth_idf=1,\n",
       "        stop_words='english', strip_accents='unicode', sublinear_tf=1,\n",
       "        token_pattern='\\\\w{1,}', tokenizer=None, use_idf=1,\n",
       "        vocabulary=None)"
      ]
     },
     "execution_count": 112,
     "metadata": {},
     "output_type": "execute_result"
    }
   ],
   "source": [
    "tf_idf_vectorizer = TfidfVectorizer(min_df=3, max_features=None, \n",
    "                                strip_accents='unicode', analyzer='word',token_pattern=r'\\w{1,}',\n",
    "                                ngram_range=(1, 3), use_idf=1,smooth_idf=1,sublinear_tf=1,\n",
    "                                stop_words = 'english')  \n",
    "\n",
    "tf_idf_vectorizer.fit(list(df_train['question_text']))"
   ]
  },
  {
   "cell_type": "code",
   "execution_count": 131,
   "metadata": {},
   "outputs": [],
   "source": [
    "def logreg_evaluate(x_train, x_val, y_train, y_val, vectorizer, train_index, val_index):\n",
    "    x_train_vectorized = vectorizer.transform(x_train)\n",
    "    x_val_vectorized = vectorizer.transform(x_val)\n",
    "    \n",
    "    logreg_model = LogisticRegression(C=1.0)\n",
    "    logreg_model.fit(x_train_vectorized, y_train)\n",
    "    logreg_score = logreg_model.score(x_val_vectorized, y_val)\n",
    "    logreg_pred = logreg_model.predict(x_val_vectorized)\n",
    "    \n",
    "    cnf_matrix = confusion_matrix(y_val, logreg_pred)\n",
    "#     plot_confusion_matrix(cnf_matrix, classes)\n",
    "#     print(classification_report(y_val, logreg_pred, target_names=classes))\n",
    "    f1 = f1_score(y_val, logreg_pred)\n",
    "    print('Training Set {}, Validation Set {}, F1: {}'.format(train_index, val_index, f1))\n",
    "    return logreg_pred\n",
    "    "
   ]
  },
  {
   "cell_type": "markdown",
   "metadata": {},
   "source": [
    "### Evaluate logistic regression model with TF-IDF"
   ]
  },
  {
   "cell_type": "code",
   "execution_count": 134,
   "metadata": {},
   "outputs": [
    {
     "name": "stdout",
     "output_type": "stream",
     "text": [
      "Training Set 0, Validation Set 0, F1: 0.08602150537634409\n",
      "Training Set 0, Validation Set 1, F1: 0.03858520900321543\n",
      "Training Set 0, Validation Set 2, F1: 0.04347826086956522\n",
      "Training Set 1, Validation Set 0, F1: 0.4656669297553275\n",
      "Training Set 1, Validation Set 1, F1: 0.44265232974910385\n",
      "Training Set 1, Validation Set 2, F1: 0.41512469831053905\n",
      "Training Set 2, Validation Set 0, F1: 0.5111371629542791\n",
      "Training Set 2, Validation Set 1, F1: 0.5256241787122208\n",
      "Training Set 2, Validation Set 2, F1: 0.4878048780487806\n"
     ]
    }
   ],
   "source": [
    "preds = []\n",
    "for i in range(3):\n",
    "    for j in range(3):\n",
    "        pred = logreg_evaluate(x_train_sets[i], x_val_sets[j], y_train_sets[i], y_val_sets[j], \n",
    "                               tf_idf_vectorizer, i, j)\n",
    "        if j == 0:\n",
    "            preds.append(pred)"
   ]
  },
  {
   "cell_type": "code",
   "execution_count": 115,
   "metadata": {},
   "outputs": [
    {
     "name": "stdout",
     "output_type": "stream",
     "text": [
      "              precision    recall  f1-score   support\n",
      "\n",
      "     sincere       0.97      0.94      0.96      4874\n",
      "   insincere       0.44      0.62      0.51       351\n",
      "\n",
      "   micro avg       0.92      0.92      0.92      5225\n",
      "   macro avg       0.71      0.78      0.74      5225\n",
      "weighted avg       0.94      0.92      0.93      5225\n",
      "\n"
     ]
    }
   ],
   "source": [
    "m = stats.mode(preds)\n",
    "fpreds = m.mode[0]\n",
    "print(classification_report(y_val_sets[0], fpreds, target_names=classes))"
   ]
  },
  {
   "cell_type": "markdown",
   "metadata": {},
   "source": [
    "### Word count vectors"
   ]
  },
  {
   "cell_type": "code",
   "execution_count": 117,
   "metadata": {},
   "outputs": [
    {
     "data": {
      "text/plain": [
       "CountVectorizer(analyzer='word', binary=False, decode_error='strict',\n",
       "        dtype=<class 'numpy.int64'>, encoding='utf-8', input='content',\n",
       "        lowercase=True, max_df=1.0, max_features=None, min_df=3,\n",
       "        ngram_range=(1, 3), preprocessor=None, stop_words='english',\n",
       "        strip_accents='unicode', token_pattern='\\\\w{1,}', tokenizer=None,\n",
       "        vocabulary=None)"
      ]
     },
     "execution_count": 117,
     "metadata": {},
     "output_type": "execute_result"
    }
   ],
   "source": [
    "count_vectorizer = CountVectorizer(min_df=3, max_features=None, \n",
    "                                strip_accents='unicode', analyzer='word',token_pattern=r'\\w{1,}',\n",
    "                                ngram_range=(1, 3), stop_words = 'english')  \n",
    "\n",
    "count_vectorizer.fit(list(df_train['question_text']))"
   ]
  },
  {
   "cell_type": "markdown",
   "metadata": {},
   "source": [
    "### Evaluate logistic regression model with Word count vectors"
   ]
  },
  {
   "cell_type": "code",
   "execution_count": 135,
   "metadata": {},
   "outputs": [
    {
     "name": "stdout",
     "output_type": "stream",
     "text": [
      "Training Set 0, Validation Set 0, F1: 0.32618025751072965\n",
      "Training Set 0, Validation Set 1, F1: 0.35748792270531404\n",
      "Training Set 0, Validation Set 2, F1: 0.3589743589743589\n",
      "Training Set 1, Validation Set 0, F1: 0.49228130360205835\n",
      "Training Set 1, Validation Set 1, F1: 0.4793863854266539\n",
      "Training Set 1, Validation Set 2, F1: 0.45739130434782604\n",
      "Training Set 2, Validation Set 0, F1: 0.5648351648351648\n",
      "Training Set 2, Validation Set 1, F1: 0.5315533980582524\n",
      "Training Set 2, Validation Set 2, F1: 0.5146726862302483\n"
     ]
    }
   ],
   "source": [
    "preds = []\n",
    "for i in range(3):\n",
    "    for j in range(3):\n",
    "        pred = logreg_evaluate(x_train_sets[i], x_val_sets[j], y_train_sets[i], y_val_sets[j], \n",
    "                               count_vectorizer, i, j)\n",
    "        if j == 0:\n",
    "            preds.append(pred)"
   ]
  },
  {
   "cell_type": "code",
   "execution_count": 170,
   "metadata": {},
   "outputs": [],
   "source": [
    "# preds = logreg_model.predict(x_test_count)\n",
    "# df_submission = pd.DataFrame({'qid': test.qid, 'prediction': preds})\n",
    "# df_submission.to_csv('submission_quora.csv',header=True, index=False)"
   ]
  },
  {
   "cell_type": "markdown",
   "metadata": {},
   "source": [
    "## Experimentation with LSTM and Capsule models "
   ]
  },
  {
   "cell_type": "markdown",
   "metadata": {},
   "source": [
    "### Word embedding"
   ]
  },
  {
   "cell_type": "code",
   "execution_count": 35,
   "metadata": {},
   "outputs": [
    {
     "name": "stderr",
     "output_type": "stream",
     "text": [
      "2196017it [03:40, 9959.26it/s] "
     ]
    },
    {
     "name": "stdout",
     "output_type": "stream",
     "text": [
      "Found 2196016 word vectors.\n"
     ]
    },
    {
     "name": "stderr",
     "output_type": "stream",
     "text": [
      "\n"
     ]
    }
   ],
   "source": [
    "embeddings_index = {}\n",
    "with open('data/glove.840B.300d.txt') as f:\n",
    "    for line in tqdm(f):\n",
    "        values = line.split(' ')\n",
    "        word = values[0]\n",
    "        coefs = np.asarray(values[1:], dtype='float32')\n",
    "        embeddings_index[word] = coefs\n",
    "\n",
    "print('Found %s word vectors.' % len(embeddings_index))"
   ]
  },
  {
   "cell_type": "markdown",
   "metadata": {},
   "source": [
    "### Use keras tokenizer for constructing word index matrix.\n",
    "Every word at this stage is a (maximum word_index + 1) dimensional vector"
   ]
  },
  {
   "cell_type": "code",
   "execution_count": 36,
   "metadata": {},
   "outputs": [],
   "source": [
    "max_len = 100\n",
    "# using keras tokenizer here\n",
    "tokenizer = text.Tokenizer(num_words=None)\n",
    "# df_train['question_text'] = df_train['question_text'].apply(lexicon_normalize)\n",
    "tokenizer.fit_on_texts(df_train['question_text'])\n",
    "word_index = tokenizer.word_index"
   ]
  },
  {
   "cell_type": "markdown",
   "metadata": {},
   "source": [
    "### Construct an emebdding matrix\n",
    "\n",
    "Maps every word from a (maximum word_index + 1) dimensional vector to a 300 dmensional vector"
   ]
  },
  {
   "cell_type": "code",
   "execution_count": 37,
   "metadata": {},
   "outputs": [],
   "source": [
    "embedding_matrix = np.zeros((len(word_index) + 1, 300))\n",
    "for word, i in word_index.items():\n",
    "    embedding_vector = embeddings_index.get(word)\n",
    "    if embedding_vector is not None:\n",
    "        embedding_matrix[i] = embedding_vector"
   ]
  },
  {
   "cell_type": "markdown",
   "metadata": {},
   "source": [
    "### Utility methods for capsule layers.\n",
    "\n",
    "Code taken from [here](https://www.kaggle.com/fizzbuzz/beginner-s-guide-to-capsule-networks)."
   ]
  },
  {
   "cell_type": "code",
   "execution_count": 38,
   "metadata": {},
   "outputs": [],
   "source": [
    "routings = 5\n",
    "num_capsule = 10\n",
    "dim_capsule = 16\n",
    "dropout_p = 0.3\n",
    "rate_drop_dense = 0.3\n",
    "\n",
    "def squash(x, axis=-1):\n",
    "    s_squared_norm = K.sum(K.square(x), axis, keepdims=True)\n",
    "    scale = K.sqrt(s_squared_norm + K.epsilon())\n",
    "    return x / scale\n",
    "\n",
    "class Capsule(Layer):\n",
    "    def __init__(self, num_capsule, dim_capsule, routings=3, kernel_size=(9, 1), share_weights=True,\n",
    "                 activation='default', **kwargs):\n",
    "        super(Capsule, self).__init__(**kwargs)\n",
    "        self.num_capsule = num_capsule\n",
    "        self.dim_capsule = dim_capsule\n",
    "        self.routings = routings\n",
    "        self.kernel_size = kernel_size\n",
    "        self.share_weights = share_weights\n",
    "        if activation == 'default':\n",
    "            self.activation = squash\n",
    "        else:\n",
    "            self.activation = Activation(activation)\n",
    "\n",
    "    def build(self, input_shape):\n",
    "        super(Capsule, self).build(input_shape)\n",
    "        input_dim_capsule = input_shape[-1]\n",
    "        if self.share_weights:\n",
    "            self.W = self.add_weight(name='capsule_kernel',\n",
    "                                     shape=(1, input_dim_capsule,\n",
    "                                            self.num_capsule * self.dim_capsule),\n",
    "                                     # shape=self.kernel_size,\n",
    "                                     initializer='glorot_uniform',\n",
    "                                     trainable=True)\n",
    "        else:\n",
    "            input_num_capsule = input_shape[-2]\n",
    "            self.W = self.add_weight(name='capsule_kernel',\n",
    "                                     shape=(input_num_capsule,\n",
    "                                            input_dim_capsule,\n",
    "                                            self.num_capsule * self.dim_capsule),\n",
    "                                     initializer='glorot_uniform',\n",
    "                                     trainable=True)\n",
    "\n",
    "    def call(self, u_vecs):\n",
    "        if self.share_weights:\n",
    "            u_hat_vecs = K.conv1d(u_vecs, self.W)\n",
    "        else:\n",
    "            u_hat_vecs = K.local_conv1d(u_vecs, self.W, [1], [1])\n",
    "\n",
    "        batch_size = K.shape(u_vecs)[0]\n",
    "        input_num_capsule = K.shape(u_vecs)[1]\n",
    "        u_hat_vecs = K.reshape(u_hat_vecs, (batch_size, input_num_capsule,\n",
    "                                            self.num_capsule, self.dim_capsule))\n",
    "        u_hat_vecs = K.permute_dimensions(u_hat_vecs, (0, 2, 1, 3))\n",
    "        # final u_hat_vecs.shape = [None, num_capsule, input_num_capsule, dim_capsule]\n",
    "\n",
    "        b = K.zeros_like(u_hat_vecs[:, :, :, 0])  # shape = [None, num_capsule, input_num_capsule]\n",
    "        for i in range(self.routings):\n",
    "            b = K.permute_dimensions(b, (0, 2, 1))  # shape = [None, input_num_capsule, num_capsule]\n",
    "            c = K.softmax(b)\n",
    "            c = K.permute_dimensions(c, (0, 2, 1))\n",
    "            b = K.permute_dimensions(b, (0, 2, 1))\n",
    "            outputs = self.activation(K.batch_dot(c, u_hat_vecs, [2, 2]))\n",
    "            if i < self.routings - 1:\n",
    "                b = K.batch_dot(outputs, u_hat_vecs, [2, 3])\n",
    "\n",
    "        return outputs\n",
    "\n",
    "    def compute_output_shape(self, input_shape):\n",
    "        return (None, self.num_capsule, self.dim_capsule)"
   ]
  },
  {
   "cell_type": "markdown",
   "metadata": {},
   "source": [
    "### Utility methods for data pre-processing, model building and evaluation."
   ]
  },
  {
   "cell_type": "code",
   "execution_count": 39,
   "metadata": {},
   "outputs": [],
   "source": [
    "def pre_process_data(data):\n",
    "    data = tokenizer.texts_to_sequences(data)\n",
    "    \n",
    "    # zero pad the sequences\n",
    "    data = sequence.pad_sequences(data, maxlen=max_len)\n",
    "    return data\n",
    "\n",
    "def get_preprocessed_data(x_train_sets, x_val_sets):\n",
    "    train = []\n",
    "    val = []\n",
    "    for s in x_train_sets:\n",
    "        train.append(pre_process_data(s))\n",
    "    for s in x_val_sets:\n",
    "        val.append(pre_process_data(s))  \n",
    "    return train, val\n",
    "    \n",
    "def get_lstm_model(bidirectional=True, dropout=0.3):\n",
    "    model = Sequential()\n",
    "    model.add(Embedding(len(word_index) + 1,\n",
    "                         300,\n",
    "                         weights=[embedding_matrix],\n",
    "                         input_length=max_len,\n",
    "                         trainable=False))\n",
    "    model.add(SpatialDropout1D(0.3))\n",
    "    if bidirectional:\n",
    "        model.add(Bidirectional(LSTM(100, dropout=dropout, recurrent_dropout=dropout)))\n",
    "    else:\n",
    "        model.add(LSTM(100, dropout=dropout, recurrent_dropout=0.3))\n",
    "\n",
    "    model.add(Dense(1024, activation='relu'))\n",
    "    model.add(Dropout(dropout))\n",
    "\n",
    "    model.add(Dense(1024, activation='relu'))\n",
    "    model.add(Dropout(dropout))\n",
    "\n",
    "    model.add(Dense(1))\n",
    "    model.add(Activation('sigmoid'))\n",
    "    model.compile(loss='binary_crossentropy', optimizer='adam', metrics=['accuracy'])\n",
    "    \n",
    "    return model\n",
    "\n",
    "def get_lstm_model_with_capsule(bidirectional=True, dropout=0.3):\n",
    "    model = Sequential()\n",
    "    model.add(Embedding(len(word_index) + 1,\n",
    "                         300,\n",
    "                         weights=[embedding_matrix],\n",
    "                         input_length=max_len,\n",
    "                         trainable=False))\n",
    "    model.add(SpatialDropout1D(0.3))\n",
    "    if bidirectional:\n",
    "        model.add(Bidirectional(LSTM(100, dropout=dropout, recurrent_dropout=dropout, return_sequences=True)))\n",
    "    else:\n",
    "        model.add(LSTM(100, dropout=dropout, recurrent_dropout=dropout, return_sequences=True))\n",
    "\n",
    "    model.add(Capsule(num_capsule=num_capsule, dim_capsule=dim_capsule, routings=routings,\n",
    "                      share_weights=True))\n",
    "\n",
    "    model.add(Flatten())\n",
    "    model.add(Dense(1024, activation='relu'))\n",
    "    model.add(Dropout(dropout))\n",
    "\n",
    "    model.add(Dense(1024, activation='relu'))\n",
    "    model.add(Dropout(dropout))\n",
    "\n",
    "    model.add(Dense(1))\n",
    "    model.add(Activation('sigmoid'))\n",
    "    model.compile(loss='binary_crossentropy', optimizer='adam', metrics=['accuracy'])\n",
    "    \n",
    "    return model\n",
    "\n",
    "class MetricsCallback(Callback):\n",
    "    def __init__(self, x_train, y_train, x_val_sets, y_val_sets):\n",
    "        self.x_val_sets = x_val_sets\n",
    "        self.y_val_sets = y_val_sets\n",
    "        self.x_train = x_train\n",
    "        self.y_train = y_train\n",
    "        self.train_f1_scores = []\n",
    "        self.val_f1_scores = []\n",
    "\n",
    "    def on_epoch_end(self, epoch, logs={}):\n",
    "        preds = self.model.predict_classes(self.x_train)\n",
    "        preds = preds.reshape((preds.shape[0],))\n",
    "        f1 = f1_score(self.y_train, preds)\n",
    "        self.train_f1_scores.append(f1)\n",
    "        print('Training set F1 score (for insincere class): {}'.format(f1))\n",
    "        val_epoch_f1_scores = []\n",
    "        for i, (x, y) in enumerate(zip(self.x_val_sets, self.y_val_sets)):\n",
    "#             loss, acc = self.model.evaluate(x, y, verbose=0)\n",
    "            preds = self.model.predict_classes(x)\n",
    "            preds = preds.reshape((preds.shape[0],))\n",
    "            f1 = f1_score(y, preds)\n",
    "            val_epoch_f1_scores.append(f1)\n",
    "#             print('Validation set {} loss: {}, acc: {}\\n'.format(i, loss, acc))\n",
    "            print('Validation set {} F1 score (for insincere class): {}'.format(i, f1))\n",
    "        self.val_f1_scores.append(val_epoch_f1_scores)\n",
    "\n",
    "def evaluate(x_train, y_train, x_vals, y_vals, model):\n",
    "    metrics_callback = MetricsCallback(x_train, y_train, x_vals, y_vals)\n",
    "    history = model.fit(x_train, y=y_train, batch_size=32, \n",
    "                        epochs=10, verbose=1,\n",
    "                        callbacks=[metrics_callback])\n",
    "    \n",
    "    return model, metrics_callback.train_f1_scores, metrics_callback.val_f1_scores"
   ]
  },
  {
   "cell_type": "markdown",
   "metadata": {},
   "source": [
    "### Prepare the training and validation sets for feeding into the neural models."
   ]
  },
  {
   "cell_type": "code",
   "execution_count": 40,
   "metadata": {},
   "outputs": [],
   "source": [
    "x_train_sets_prep, x_val_sets_prep = get_preprocessed_data(x_train_sets, x_val_sets)"
   ]
  },
  {
   "cell_type": "markdown",
   "metadata": {},
   "source": [
    "### Fit the LSTM-only models on all 3 training data sets and evaluate each of them on all 3 validation sets"
   ]
  },
  {
   "cell_type": "code",
   "execution_count": 41,
   "metadata": {},
   "outputs": [
    {
     "name": "stdout",
     "output_type": "stream",
     "text": [
      "Epoch 1/10\n",
      "21768/21768 [==============================] - 114s 5ms/step - loss: 0.1690 - acc: 0.9398\n",
      "Training set F1 score (for insincere class): 0.5126811594202898\n",
      "Validation set 0 F1 score (for insincere class): 0.4869888475836431\n",
      "Validation set 1 F1 score (for insincere class): 0.4845995893223819\n",
      "Validation set 2 F1 score (for insincere class): 0.4609375\n",
      "Epoch 2/10\n",
      "21768/21768 [==============================] - 100s 5ms/step - loss: 0.1440 - acc: 0.9463\n",
      "Training set F1 score (for insincere class): 0.591800356506239\n",
      "Validation set 0 F1 score (for insincere class): 0.5916870415647922\n",
      "Validation set 1 F1 score (for insincere class): 0.5726256983240223\n",
      "Validation set 2 F1 score (for insincere class): 0.5358024691358024\n",
      "Epoch 3/10\n",
      "21768/21768 [==============================] - 101s 5ms/step - loss: 0.1367 - acc: 0.9480\n",
      "Training set F1 score (for insincere class): 0.6116760828625236\n",
      "Validation set 0 F1 score (for insincere class): 0.5957446808510638\n",
      "Validation set 1 F1 score (for insincere class): 0.5549738219895287\n",
      "Validation set 2 F1 score (for insincere class): 0.5184\n",
      "Epoch 4/10\n",
      "21768/21768 [==============================] - 101s 5ms/step - loss: 0.1281 - acc: 0.9508\n",
      "Training set F1 score (for insincere class): 0.6350435624394967\n",
      "Validation set 0 F1 score (for insincere class): 0.5908496732026144\n",
      "Validation set 1 F1 score (for insincere class): 0.5818713450292399\n",
      "Validation set 2 F1 score (for insincere class): 0.5481283422459894\n",
      "Epoch 5/10\n",
      "21768/21768 [==============================] - 101s 5ms/step - loss: 0.1219 - acc: 0.9543\n",
      "Training set F1 score (for insincere class): 0.5376128385155466\n",
      "Validation set 0 F1 score (for insincere class): 0.42411642411642414\n",
      "Validation set 1 F1 score (for insincere class): 0.4345794392523365\n",
      "Validation set 2 F1 score (for insincere class): 0.40625\n",
      "Epoch 6/10\n",
      "21768/21768 [==============================] - 102s 5ms/step - loss: 0.1157 - acc: 0.9526\n",
      "Training set F1 score (for insincere class): 0.6694879390605162\n",
      "Validation set 0 F1 score (for insincere class): 0.5407279029462737\n",
      "Validation set 1 F1 score (for insincere class): 0.5465116279069767\n",
      "Validation set 2 F1 score (for insincere class): 0.5275142314990512\n",
      "Epoch 7/10\n",
      "21768/21768 [==============================] - 102s 5ms/step - loss: 0.1083 - acc: 0.9568\n",
      "Training set F1 score (for insincere class): 0.7300325262016625\n",
      "Validation set 0 F1 score (for insincere class): 0.6036036036036035\n",
      "Validation set 1 F1 score (for insincere class): 0.5799011532125207\n",
      "Validation set 2 F1 score (for insincere class): 0.573228346456693\n",
      "Epoch 8/10\n",
      "21768/21768 [==============================] - 102s 5ms/step - loss: 0.1029 - acc: 0.9587\n",
      "Training set F1 score (for insincere class): 0.7313432835820896\n",
      "Validation set 0 F1 score (for insincere class): 0.5517241379310345\n",
      "Validation set 1 F1 score (for insincere class): 0.5697445972495089\n",
      "Validation set 2 F1 score (for insincere class): 0.516728624535316\n",
      "Epoch 9/10\n",
      "21768/21768 [==============================] - 102s 5ms/step - loss: 0.0966 - acc: 0.9615\n",
      "Training set F1 score (for insincere class): 0.7731225296442689\n",
      "Validation set 0 F1 score (for insincere class): 0.5628140703517588\n",
      "Validation set 1 F1 score (for insincere class): 0.5576208178438662\n",
      "Validation set 2 F1 score (for insincere class): 0.5323741007194245\n",
      "Epoch 10/10\n",
      "21768/21768 [==============================] - 104s 5ms/step - loss: 0.0921 - acc: 0.9622\n",
      "Training set F1 score (for insincere class): 0.8052884615384616\n",
      "Validation set 0 F1 score (for insincere class): 0.5335628227194493\n",
      "Validation set 1 F1 score (for insincere class): 0.5509433962264152\n",
      "Validation set 2 F1 score (for insincere class): 0.5140712945590995\n",
      "Epoch 1/10\n",
      "21768/21768 [==============================] - 106s 5ms/step - loss: 0.3813 - acc: 0.8408\n",
      "Training set F1 score (for insincere class): 0.8835831300104567\n",
      "Validation set 0 F1 score (for insincere class): 0.42838541666666674\n",
      "Validation set 1 F1 score (for insincere class): 0.40700218818380746\n",
      "Validation set 2 F1 score (for insincere class): 0.3821243523316062\n",
      "Epoch 2/10\n",
      "21768/21768 [==============================] - 104s 5ms/step - loss: 0.3313 - acc: 0.8672\n",
      "Training set F1 score (for insincere class): 0.8886630324309343\n",
      "Validation set 0 F1 score (for insincere class): 0.5214465937762826\n",
      "Validation set 1 F1 score (for insincere class): 0.5093411996066864\n",
      "Validation set 2 F1 score (for insincere class): 0.4804088586030664\n",
      "Epoch 3/10\n",
      "21768/21768 [==============================] - 104s 5ms/step - loss: 0.3153 - acc: 0.8759\n",
      "Training set F1 score (for insincere class): 0.8973565555653789\n",
      "Validation set 0 F1 score (for insincere class): 0.4543554006968641\n",
      "Validation set 1 F1 score (for insincere class): 0.43567482241515393\n",
      "Validation set 2 F1 score (for insincere class): 0.41025641025641024\n",
      "Epoch 4/10\n",
      "21768/21768 [==============================] - 104s 5ms/step - loss: 0.3023 - acc: 0.8802\n",
      "Training set F1 score (for insincere class): 0.9035203871969316\n",
      "Validation set 0 F1 score (for insincere class): 0.5214521452145214\n",
      "Validation set 1 F1 score (for insincere class): 0.506137865911237\n",
      "Validation set 2 F1 score (for insincere class): 0.4688763136620857\n",
      "Epoch 5/10\n",
      "21768/21768 [==============================] - 104s 5ms/step - loss: 0.2878 - acc: 0.8857\n",
      "Training set F1 score (for insincere class): 0.907868722815342\n",
      "Validation set 0 F1 score (for insincere class): 0.4561161022805805\n",
      "Validation set 1 F1 score (for insincere class): 0.4347826086956521\n",
      "Validation set 2 F1 score (for insincere class): 0.41346153846153844\n",
      "Epoch 6/10\n",
      "21768/21768 [==============================] - 105s 5ms/step - loss: 0.2742 - acc: 0.8906\n",
      "Training set F1 score (for insincere class): 0.913150236449618\n",
      "Validation set 0 F1 score (for insincere class): 0.5208163265306123\n",
      "Validation set 1 F1 score (for insincere class): 0.5088536812674743\n",
      "Validation set 2 F1 score (for insincere class): 0.4798685291700904\n",
      "Epoch 7/10\n",
      "21768/21768 [==============================] - 104s 5ms/step - loss: 0.2623 - acc: 0.8971\n",
      "Training set F1 score (for insincere class): 0.9176767449195692\n",
      "Validation set 0 F1 score (for insincere class): 0.5058731401722788\n",
      "Validation set 1 F1 score (for insincere class): 0.48070175438596485\n",
      "Validation set 2 F1 score (for insincere class): 0.45384615384615384\n",
      "Epoch 8/10\n",
      "21768/21768 [==============================] - 105s 5ms/step - loss: 0.2542 - acc: 0.8986\n",
      "Training set F1 score (for insincere class): 0.9234242369514177\n",
      "Validation set 0 F1 score (for insincere class): 0.5157639450282943\n",
      "Validation set 1 F1 score (for insincere class): 0.4895359417652411\n",
      "Validation set 2 F1 score (for insincere class): 0.4678456591639872\n",
      "Epoch 9/10\n",
      "21768/21768 [==============================] - 103s 5ms/step - loss: 0.2448 - acc: 0.9014\n",
      "Training set F1 score (for insincere class): 0.9334589671108718\n",
      "Validation set 0 F1 score (for insincere class): 0.49686520376175547\n",
      "Validation set 1 F1 score (for insincere class): 0.4820333041191937\n",
      "Validation set 2 F1 score (for insincere class): 0.4604651162790698\n",
      "Epoch 10/10\n",
      "21768/21768 [==============================] - 105s 5ms/step - loss: 0.2381 - acc: 0.9053\n",
      "Training set F1 score (for insincere class): 0.9344768127779292\n",
      "Validation set 0 F1 score (for insincere class): 0.5176085176085177\n",
      "Validation set 1 F1 score (for insincere class): 0.5126286248830684\n",
      "Validation set 2 F1 score (for insincere class): 0.4767346938775511\n",
      "Epoch 1/10\n",
      "21768/21768 [==============================] - 107s 5ms/step - loss: 0.3636 - acc: 0.8464\n",
      "Training set F1 score (for insincere class): 0.8353550586846765\n",
      "Validation set 0 F1 score (for insincere class): 0.5020781379883624\n",
      "Validation set 1 F1 score (for insincere class): 0.4875717017208413\n",
      "Validation set 2 F1 score (for insincere class): 0.45671887881286066\n",
      "Epoch 2/10\n",
      "21768/21768 [==============================] - 105s 5ms/step - loss: 0.3152 - acc: 0.8705\n",
      "Training set F1 score (for insincere class): 0.8445652877581408\n",
      "Validation set 0 F1 score (for insincere class): 0.4976452119309262\n",
      "Validation set 1 F1 score (for insincere class): 0.48540145985401456\n",
      "Validation set 2 F1 score (for insincere class): 0.45105716523101025\n",
      "Epoch 3/10\n",
      "21768/21768 [==============================] - 105s 5ms/step - loss: 0.2941 - acc: 0.8795\n"
     ]
    },
    {
     "name": "stdout",
     "output_type": "stream",
     "text": [
      "Training set F1 score (for insincere class): 0.850206079340546\n",
      "Validation set 0 F1 score (for insincere class): 0.49062500000000003\n",
      "Validation set 1 F1 score (for insincere class): 0.48251121076233183\n",
      "Validation set 2 F1 score (for insincere class): 0.44891640866873056\n",
      "Epoch 4/10\n",
      "21768/21768 [==============================] - 104s 5ms/step - loss: 0.2822 - acc: 0.8873\n",
      "Training set F1 score (for insincere class): 0.8607192529306578\n",
      "Validation set 0 F1 score (for insincere class): 0.5341400172860847\n",
      "Validation set 1 F1 score (for insincere class): 0.5365853658536585\n",
      "Validation set 2 F1 score (for insincere class): 0.4896193771626297\n",
      "Epoch 5/10\n",
      "21768/21768 [==============================] - 104s 5ms/step - loss: 0.2694 - acc: 0.8921\n",
      "Training set F1 score (for insincere class): 0.8671978751660026\n",
      "Validation set 0 F1 score (for insincere class): 0.531951640759931\n",
      "Validation set 1 F1 score (for insincere class): 0.5270541082164328\n",
      "Validation set 2 F1 score (for insincere class): 0.4905008635578584\n",
      "Epoch 6/10\n",
      "21768/21768 [==============================] - 107s 5ms/step - loss: 0.2586 - acc: 0.8964\n",
      "Training set F1 score (for insincere class): 0.8799480856586631\n",
      "Validation set 0 F1 score (for insincere class): 0.5126118795768917\n",
      "Validation set 1 F1 score (for insincere class): 0.5069897483690586\n",
      "Validation set 2 F1 score (for insincere class): 0.467365028203062\n",
      "Epoch 7/10\n",
      "21768/21768 [==============================] - 105s 5ms/step - loss: 0.2464 - acc: 0.9002\n",
      "Training set F1 score (for insincere class): 0.8889189189189189\n",
      "Validation set 0 F1 score (for insincere class): 0.5573770491803278\n",
      "Validation set 1 F1 score (for insincere class): 0.555198285101822\n",
      "Validation set 2 F1 score (for insincere class): 0.5115848007414273\n",
      "Epoch 8/10\n",
      "21768/21768 [==============================] - 104s 5ms/step - loss: 0.2397 - acc: 0.9044\n",
      "Training set F1 score (for insincere class): 0.8941301179276533\n",
      "Validation set 0 F1 score (for insincere class): 0.5488126649076517\n",
      "Validation set 1 F1 score (for insincere class): 0.5317220543806647\n",
      "Validation set 2 F1 score (for insincere class): 0.502210433244916\n",
      "Epoch 9/10\n",
      "21768/21768 [==============================] - 103s 5ms/step - loss: 0.2262 - acc: 0.9095\n",
      "Training set F1 score (for insincere class): 0.9055802534669232\n",
      "Validation set 0 F1 score (for insincere class): 0.5380622837370242\n",
      "Validation set 1 F1 score (for insincere class): 0.5366834170854271\n",
      "Validation set 2 F1 score (for insincere class): 0.5122807017543859\n",
      "Epoch 10/10\n",
      "21768/21768 [==============================] - 103s 5ms/step - loss: 0.2212 - acc: 0.9106\n",
      "Training set F1 score (for insincere class): 0.9049814899006299\n",
      "Validation set 0 F1 score (for insincere class): 0.5153473344103393\n",
      "Validation set 1 F1 score (for insincere class): 0.48824593128390603\n",
      "Validation set 2 F1 score (for insincere class): 0.4657534246575342\n"
     ]
    }
   ],
   "source": [
    "lstm_models = []\n",
    "f1_train_history_lstms = []\n",
    "f1_vals_history_lstms = []\n",
    "\n",
    "for i in range(len(x_train_sets_prep)):\n",
    "    model, f1_train_history_lstm, f1_vals_history_lstm = evaluate(x_train_sets_prep[i], \n",
    "                                                                y_train_sets[i], \n",
    "                                                                x_val_sets_prep, \n",
    "                                                                y_val_sets,\n",
    "                                                                get_lstm_model(dropout=0.3))\n",
    "    lstm_models.append(model)\n",
    "    f1_train_history_lstms.append(f1_train_history_lstm)\n",
    "    f1_vals_history_lstms.append(f1_vals_history_lstm)"
   ]
  },
  {
   "cell_type": "code",
   "execution_count": 42,
   "metadata": {},
   "outputs": [],
   "source": [
    "f1_train_history_lstms = np.array(f1_train_history_lstms)\n",
    "f1_vals_history_lstms = np.array(f1_vals_history_lstms)"
   ]
  },
  {
   "cell_type": "markdown",
   "metadata": {},
   "source": [
    "### Utility method for getting final max-voted F1 scores from all 3 models"
   ]
  },
  {
   "cell_type": "code",
   "execution_count": 43,
   "metadata": {},
   "outputs": [],
   "source": [
    "def get_final_scores(models):\n",
    "    final_preds = []\n",
    "    f1_scores = []\n",
    "    for i in range(len(x_val_sets_prep)):\n",
    "        preds = []\n",
    "        for j in range(len(x_train_sets_prep)):\n",
    "            pred = models[j].predict_classes(x_val_sets_prep[i])\n",
    "            pred = pred.reshape((pred.shape[0],))\n",
    "            preds.append(pred)\n",
    "        m = stats.mode(preds)\n",
    "        final_pred = m.mode[0]\n",
    "        final_preds.append(final_pred)\n",
    "        f1_final = f1_score(y_val_sets[i], final_pred)\n",
    "        f1_scores.append(f1_final)\n",
    "    return f1_scores, final_preds"
   ]
  },
  {
   "cell_type": "code",
   "execution_count": 44,
   "metadata": {},
   "outputs": [],
   "source": [
    "f1_scores_lstm, final_preds_lstm = get_final_scores(lstm_models)"
   ]
  },
  {
   "cell_type": "markdown",
   "metadata": {},
   "source": [
    "### Plot the training and validation F1 scores trends for LSTM-only models"
   ]
  },
  {
   "cell_type": "code",
   "execution_count": 94,
   "metadata": {},
   "outputs": [
    {
     "data": {
      "image/png": "[encoded data removed]",
      "text/plain": [
       "<Figure size 1008x1296 with 9 Axes>"
      ]
     },
     "metadata": {
      "needs_background": "light"
     },
     "output_type": "display_data"
    }
   ],
   "source": [
    "epochs = range(1, 10 + 1)\n",
    "\n",
    "fig = plt.figure(figsize=(14, 18))\n",
    "fig.subplots_adjust(left=0, right=1, bottom=0, top=1, hspace=0.30, wspace=0.40) \n",
    "c = 1\n",
    "for i in range(3):\n",
    "    for j in range(3):       \n",
    "        if j == 0:\n",
    "            ax = fig.add_subplot(5, 3, c)\n",
    "            sharedax = ax\n",
    "        else:\n",
    "            ax = fig.add_subplot(5, 3, c, sharey=sharedax)\n",
    "        ax.plot(epochs, f1_train_history_lstms[j], 'b', label='Training F1')\n",
    "        ax.plot(epochs, f1_vals_history_lstms[j][:, i], 'r', label='Validation F1')\n",
    "        ax.set_title('Training and validation f1 scores')\n",
    "        ax.set_xlabel('Epochs')\n",
    "        ax.set_ylabel('F1 score')\n",
    "        ax.legend()\n",
    "        ax.set_title('Training set {}, Validation set {}'.format(j + 1, i + 1))\n",
    "        c += 1\n",
    "plt.tight_layout()\n",
    "plt.savefig('exp1')"
   ]
  },
  {
   "cell_type": "markdown",
   "metadata": {},
   "source": [
    "### Print out best epoch performance for LSTM-only models"
   ]
  },
  {
   "cell_type": "code",
   "execution_count": 104,
   "metadata": {},
   "outputs": [
    {
     "name": "stdout",
     "output_type": "stream",
     "text": [
      "Best validation performance found on epoch 7 for training set 1\n",
      "Epoch 6 validation scores: [0.6036036  0.57990115 0.57322835]\n",
      "Best validation performance found on epoch 2 for training set 2\n",
      "Epoch 1 validation scores: [0.52144659 0.5093412  0.48040886]\n",
      "Best validation performance found on epoch 7 for training set 3\n",
      "Epoch 6 validation scores: [0.55737705 0.55519829 0.5115848 ]\n"
     ]
    }
   ],
   "source": [
    "for i, history in enumerate(f1_vals_history_lstms):\n",
    "    sum_recall = history.sum(axis=1)\n",
    "    best_epoch = sum_recall.argmax()\n",
    "    print('Best validation performance found on epoch {} for training set {}'.format(best_epoch + 1, i + 1))\n",
    "    print('Epoch {} validation scores: {}'.format(best_epoch, history[best_epoch]))"
   ]
  },
  {
   "cell_type": "markdown",
   "metadata": {},
   "source": [
    "### Fit the LSTM with Capsule models on all 3 training data sets and evaluate each of them on all 3 validation sets\n"
   ]
  },
  {
   "cell_type": "code",
   "execution_count": 46,
   "metadata": {},
   "outputs": [
    {
     "name": "stdout",
     "output_type": "stream",
     "text": [
      "Epoch 1/10\n",
      "21768/21768 [==============================] - 129s 6ms/step - loss: 0.1646 - acc: 0.9420\n",
      "Training set F1 score (for insincere class): 0.4841906559697971\n",
      "Validation set 0 F1 score (for insincere class): 0.4868913857677903\n",
      "Validation set 1 F1 score (for insincere class): 0.4658119658119658\n",
      "Validation set 2 F1 score (for insincere class): 0.42828282828282827\n",
      "Epoch 2/10\n",
      "21768/21768 [==============================] - 126s 6ms/step - loss: 0.1484 - acc: 0.9440\n",
      "Training set F1 score (for insincere class): 0.5725925925925925\n",
      "Validation set 0 F1 score (for insincere class): 0.5601217656012177\n",
      "Validation set 1 F1 score (for insincere class): 0.5534804753820034\n",
      "Validation set 2 F1 score (for insincere class): 0.4944881889763779\n",
      "Epoch 3/10\n",
      "21768/21768 [==============================] - 126s 6ms/step - loss: 0.1514 - acc: 0.9427\n",
      "Training set F1 score (for insincere class): 0.3271028037383178\n",
      "Validation set 0 F1 score (for insincere class): 0.25233644859813087\n",
      "Validation set 1 F1 score (for insincere class): 0.2917771883289125\n",
      "Validation set 2 F1 score (for insincere class): 0.30845771144278605\n",
      "Epoch 4/10\n",
      "21768/21768 [==============================] - 126s 6ms/step - loss: 0.1393 - acc: 0.9472\n",
      "Training set F1 score (for insincere class): 0.5734858110969928\n",
      "Validation set 0 F1 score (for insincere class): 0.5391304347826087\n",
      "Validation set 1 F1 score (for insincere class): 0.5381679389312977\n",
      "Validation set 2 F1 score (for insincere class): 0.51985559566787\n",
      "Epoch 5/10\n",
      "21768/21768 [==============================] - 126s 6ms/step - loss: 0.1324 - acc: 0.9490\n",
      "Training set F1 score (for insincere class): 0.6148944643568299\n",
      "Validation set 0 F1 score (for insincere class): 0.5705128205128205\n",
      "Validation set 1 F1 score (for insincere class): 0.5652951699463328\n",
      "Validation set 2 F1 score (for insincere class): 0.5077186963979416\n",
      "Epoch 6/10\n",
      "21768/21768 [==============================] - 126s 6ms/step - loss: 0.1306 - acc: 0.9486\n",
      "Training set F1 score (for insincere class): 0.6299718762555243\n",
      "Validation set 0 F1 score (for insincere class): 0.5784313725490196\n",
      "Validation set 1 F1 score (for insincere class): 0.5656192236598891\n",
      "Validation set 2 F1 score (for insincere class): 0.5284974093264249\n",
      "Epoch 7/10\n",
      "21768/21768 [==============================] - 126s 6ms/step - loss: 0.1270 - acc: 0.9508\n",
      "Training set F1 score (for insincere class): 0.6402266288951841\n",
      "Validation set 0 F1 score (for insincere class): 0.5723577235772358\n",
      "Validation set 1 F1 score (for insincere class): 0.5588235294117648\n",
      "Validation set 2 F1 score (for insincere class): 0.5451388888888888\n",
      "Epoch 8/10\n",
      "21768/21768 [==============================] - 126s 6ms/step - loss: 0.1227 - acc: 0.9509\n",
      "Training set F1 score (for insincere class): 0.5915492957746479\n",
      "Validation set 0 F1 score (for insincere class): 0.5066162570888469\n",
      "Validation set 1 F1 score (for insincere class): 0.5138004246284501\n",
      "Validation set 2 F1 score (for insincere class): 0.4560669456066946\n",
      "Epoch 9/10\n",
      "21768/21768 [==============================] - 126s 6ms/step - loss: 0.1257 - acc: 0.9515\n",
      "Training set F1 score (for insincere class): 0.5850860420650096\n",
      "Validation set 0 F1 score (for insincere class): 0.4883720930232558\n",
      "Validation set 1 F1 score (for insincere class): 0.5159914712153518\n",
      "Validation set 2 F1 score (for insincere class): 0.452431289640592\n",
      "Epoch 10/10\n",
      "21768/21768 [==============================] - 127s 6ms/step - loss: 0.1154 - acc: 0.9545\n",
      "Training set F1 score (for insincere class): 0.6483420593368237\n",
      "Validation set 0 F1 score (for insincere class): 0.5311942959001782\n",
      "Validation set 1 F1 score (for insincere class): 0.5447316103379722\n",
      "Validation set 2 F1 score (for insincere class): 0.48638132295719844\n",
      "Epoch 1/10\n",
      "21768/21768 [==============================] - 129s 6ms/step - loss: 0.3715 - acc: 0.8436\n",
      "Training set F1 score (for insincere class): 0.8835847782031073\n",
      "Validation set 0 F1 score (for insincere class): 0.4673992673992674\n",
      "Validation set 1 F1 score (for insincere class): 0.4481887110362258\n",
      "Validation set 2 F1 score (for insincere class): 0.4158125915080527\n",
      "Epoch 2/10\n",
      "21768/21768 [==============================] - 126s 6ms/step - loss: 0.3359 - acc: 0.8649\n",
      "Training set F1 score (for insincere class): 0.8783515601908541\n",
      "Validation set 0 F1 score (for insincere class): 0.37479452054794515\n",
      "Validation set 1 F1 score (for insincere class): 0.35388409371146734\n",
      "Validation set 2 F1 score (for insincere class): 0.34214969048958915\n",
      "Epoch 3/10\n",
      "21768/21768 [==============================] - 127s 6ms/step - loss: 0.3254 - acc: 0.8700\n",
      "Training set F1 score (for insincere class): 0.8950523396260177\n",
      "Validation set 0 F1 score (for insincere class): 0.4766146993318486\n",
      "Validation set 1 F1 score (for insincere class): 0.4601175482787573\n",
      "Validation set 2 F1 score (for insincere class): 0.4310850439882699\n",
      "Epoch 4/10\n",
      "21768/21768 [==============================] - 127s 6ms/step - loss: 0.3105 - acc: 0.8797\n",
      "Training set F1 score (for insincere class): 0.8996616809116809\n",
      "Validation set 0 F1 score (for insincere class): 0.4682080924855492\n",
      "Validation set 1 F1 score (for insincere class): 0.45723684210526316\n",
      "Validation set 2 F1 score (for insincere class): 0.42795389048991356\n",
      "Epoch 5/10\n",
      "21768/21768 [==============================] - 127s 6ms/step - loss: 0.3003 - acc: 0.8842\n",
      "Training set F1 score (for insincere class): 0.9028596961572833\n",
      "Validation set 0 F1 score (for insincere class): 0.479584261321455\n",
      "Validation set 1 F1 score (for insincere class): 0.4688026981450253\n",
      "Validation set 2 F1 score (for insincere class): 0.44278234854151083\n",
      "Epoch 6/10\n",
      "21768/21768 [==============================] - 127s 6ms/step - loss: 0.2927 - acc: 0.8858\n",
      "Training set F1 score (for insincere class): 0.9080558442145213\n",
      "Validation set 0 F1 score (for insincere class): 0.5119236883942766\n",
      "Validation set 1 F1 score (for insincere class): 0.49001814882032674\n",
      "Validation set 2 F1 score (for insincere class): 0.46080000000000004\n",
      "Epoch 7/10\n",
      "21768/21768 [==============================] - 127s 6ms/step - loss: 0.2849 - acc: 0.8868\n",
      "Training set F1 score (for insincere class): 0.8983014589483592\n",
      "Validation set 0 F1 score (for insincere class): 0.4038461538461539\n",
      "Validation set 1 F1 score (for insincere class): 0.3857046527309508\n",
      "Validation set 2 F1 score (for insincere class): 0.36483253588516745\n",
      "Epoch 8/10\n",
      "21768/21768 [==============================] - 127s 6ms/step - loss: 0.2757 - acc: 0.8951\n",
      "Training set F1 score (for insincere class): 0.9141669678352005\n",
      "Validation set 0 F1 score (for insincere class): 0.5112540192926045\n",
      "Validation set 1 F1 score (for insincere class): 0.4986301369863013\n",
      "Validation set 2 F1 score (for insincere class): 0.4666666666666667\n",
      "Epoch 9/10\n",
      "21768/21768 [==============================] - 126s 6ms/step - loss: 0.2746 - acc: 0.8948\n",
      "Training set F1 score (for insincere class): 0.9190200282859621\n",
      "Validation set 0 F1 score (for insincere class): 0.5312767780634104\n",
      "Validation set 1 F1 score (for insincere class): 0.5133587786259542\n",
      "Validation set 2 F1 score (for insincere class): 0.4906303236797274\n",
      "Epoch 10/10\n",
      "21768/21768 [==============================] - 127s 6ms/step - loss: 0.2634 - acc: 0.8972\n",
      "Training set F1 score (for insincere class): 0.9192519056904804\n",
      "Validation set 0 F1 score (for insincere class): 0.4791208791208791\n",
      "Validation set 1 F1 score (for insincere class): 0.44713478611783697\n",
      "Validation set 2 F1 score (for insincere class): 0.4263233190271816\n",
      "Epoch 1/10\n",
      "21768/21768 [==============================] - 129s 6ms/step - loss: 0.3565 - acc: 0.8478\n",
      "Training set F1 score (for insincere class): 0.829323408214808\n",
      "Validation set 0 F1 score (for insincere class): 0.5063078216989066\n",
      "Validation set 1 F1 score (for insincere class): 0.49607843137254903\n",
      "Validation set 2 F1 score (for insincere class): 0.465076660988075\n",
      "Epoch 2/10\n",
      "21768/21768 [==============================] - 126s 6ms/step - loss: 0.3227 - acc: 0.8689\n",
      "Training set F1 score (for insincere class): 0.8364458804523425\n",
      "Validation set 0 F1 score (for insincere class): 0.4875776397515529\n",
      "Validation set 1 F1 score (for insincere class): 0.48501362397820164\n",
      "Validation set 2 F1 score (for insincere class): 0.4523809523809524\n",
      "Epoch 3/10\n",
      "21768/21768 [==============================] - 127s 6ms/step - loss: 0.3059 - acc: 0.8771\n",
      "Training set F1 score (for insincere class): 0.8466519880844451\n",
      "Validation set 0 F1 score (for insincere class): 0.5067729083665339\n",
      "Validation set 1 F1 score (for insincere class): 0.49070631970260226\n",
      "Validation set 2 F1 score (for insincere class): 0.4584664536741214\n",
      "Epoch 4/10\n",
      "21768/21768 [==============================] - 127s 6ms/step - loss: 0.2896 - acc: 0.8821\n",
      "Training set F1 score (for insincere class): 0.8539142273655549\n",
      "Validation set 0 F1 score (for insincere class): 0.5701021355617456\n",
      "Validation set 1 F1 score (for insincere class): 0.5485961123110151\n",
      "Validation set 2 F1 score (for insincere class): 0.5107577174929842\n",
      "Epoch 5/10\n",
      "21768/21768 [==============================] - 127s 6ms/step - loss: 0.2787 - acc: 0.8903\n",
      "Training set F1 score (for insincere class): 0.862810357451907\n",
      "Validation set 0 F1 score (for insincere class): 0.5406824146981627\n",
      "Validation set 1 F1 score (for insincere class): 0.5239999999999999\n",
      "Validation set 2 F1 score (for insincere class): 0.49339207048458145\n",
      "Epoch 6/10\n",
      "21768/21768 [==============================] - 127s 6ms/step - loss: 0.2729 - acc: 0.8926\n",
      "Training set F1 score (for insincere class): 0.867759709716436\n",
      "Validation set 0 F1 score (for insincere class): 0.5490196078431372\n",
      "Validation set 1 F1 score (for insincere class): 0.5348360655737705\n",
      "Validation set 2 F1 score (for insincere class): 0.5045207956600362\n",
      "Epoch 7/10\n",
      "21768/21768 [==============================] - 127s 6ms/step - loss: 0.2651 - acc: 0.8962\n",
      "Training set F1 score (for insincere class): 0.8679641556986838\n",
      "Validation set 0 F1 score (for insincere class): 0.5896656534954408\n",
      "Validation set 1 F1 score (for insincere class): 0.5906362545018007\n",
      "Validation set 2 F1 score (for insincere class): 0.5555555555555555\n",
      "Epoch 8/10\n",
      "21768/21768 [==============================] - 127s 6ms/step - loss: 0.2584 - acc: 0.8989\n",
      "Training set F1 score (for insincere class): 0.8796179611328514\n",
      "Validation set 0 F1 score (for insincere class): 0.5448215839860749\n",
      "Validation set 1 F1 score (for insincere class): 0.5348133198789101\n",
      "Validation set 2 F1 score (for insincere class): 0.4965156794425087\n",
      "Epoch 9/10\n",
      "21768/21768 [==============================] - 127s 6ms/step - loss: 0.2492 - acc: 0.9031\n",
      "Training set F1 score (for insincere class): 0.8789405684754522\n",
      "Validation set 0 F1 score (for insincere class): 0.5063492063492063\n",
      "Validation set 1 F1 score (for insincere class): 0.49452554744525545\n",
      "Validation set 2 F1 score (for insincere class): 0.46239113222486145\n",
      "Epoch 10/10\n",
      "21768/21768 [==============================] - 127s 6ms/step - loss: 0.2441 - acc: 0.9027\n",
      "Training set F1 score (for insincere class): 0.8897136797454931\n",
      "Validation set 0 F1 score (for insincere class): 0.5360824742268041\n",
      "Validation set 1 F1 score (for insincere class): 0.5312190287413281\n",
      "Validation set 2 F1 score (for insincere class): 0.5\n"
     ]
    }
   ],
   "source": [
    "capsule_models = []\n",
    "f1_train_history_capsules = []\n",
    "f1_vals_history_capsules = []\n",
    "\n",
    "for i in range(len(x_train_sets_prep)):\n",
    "    model, f1_train_history_capsule, f1_vals_history_capsule = evaluate(x_train_sets_prep[i], \n",
    "                                                            y_train_sets[i], \n",
    "                                                            x_val_sets_prep, \n",
    "                                                            y_val_sets,\n",
    "                                                            get_lstm_model_with_capsule(dropout=0.3))\n",
    "    capsule_models.append(model)\n",
    "    f1_train_history_capsules.append(f1_train_history_capsule)\n",
    "    f1_vals_history_capsules.append(f1_vals_history_capsule)"
   ]
  },
  {
   "cell_type": "code",
   "execution_count": 47,
   "metadata": {},
   "outputs": [],
   "source": [
    "f1_scores_capsule, final_preds_capsules = get_final_scores(capsule_models)"
   ]
  },
  {
   "cell_type": "code",
   "execution_count": 48,
   "metadata": {},
   "outputs": [],
   "source": [
    "f1_train_history_capsules = np.array(f1_train_history_capsules)\n",
    "f1_vals_history_capsules = np.array(f1_vals_history_capsules)"
   ]
  },
  {
   "cell_type": "markdown",
   "metadata": {},
   "source": [
    "### Plot the training and validation F1 scores trends for LSTM with Capsule models"
   ]
  },
  {
   "cell_type": "code",
   "execution_count": 157,
   "metadata": {
    "scrolled": false
   },
   "outputs": [
    {
     "data": {
      "image/png": "[encoded data removed]",
      "text/plain": [
       "<Figure size 1008x1296 with 9 Axes>"
      ]
     },
     "metadata": {
      "needs_background": "light"
     },
     "output_type": "display_data"
    }
   ],
   "source": [
    "epochs = range(1, 10 + 1)\n",
    "\n",
    "fig = plt.figure(figsize=(14, 18))\n",
    "fig.subplots_adjust(left=0, right=1, bottom=0, top=1, hspace=0.30, wspace=0.40) \n",
    "c = 1\n",
    "for i in range(3):\n",
    "    for j in range(3):       \n",
    "        if j == 0:\n",
    "            ax = fig.add_subplot(5, 3, c)\n",
    "            sharedax = ax\n",
    "        else:\n",
    "            ax = fig.add_subplot(5, 3, c, sharey=sharedax)\n",
    "        ax.plot(epochs, f1_train_history_capsules[j], 'b', label='Training F1')\n",
    "        ax.plot(epochs, f1_vals_history_capsules[j][:, i], 'r', label='Validation F1')\n",
    "        ax.set_title('Training and validation f1 scores')\n",
    "        ax.set_xlabel('Epochs')\n",
    "        ax.set_ylabel('F1 score')\n",
    "        ax.legend()\n",
    "        ax.set_title('Training set {}, Validation set {}'.format(j + 1, i + 1))\n",
    "        c += 1\n",
    "plt.tight_layout()\n",
    "plt.savefig('exp2')"
   ]
  },
  {
   "cell_type": "markdown",
   "metadata": {},
   "source": [
    "### Print out best epoch performance for LSTM with Capsule models"
   ]
  },
  {
   "cell_type": "code",
   "execution_count": 109,
   "metadata": {},
   "outputs": [
    {
     "name": "stdout",
     "output_type": "stream",
     "text": [
      "Best validation performance found on epoch 7 for training set 1\n",
      "Epoch 6 validation scores: [0.57235772 0.55882353 0.54513889]\n",
      "Best validation performance found on epoch 9 for training set 2\n",
      "Epoch 8 validation scores: [0.53127678 0.51335878 0.49063032]\n",
      "Best validation performance found on epoch 7 for training set 3\n",
      "Epoch 6 validation scores: [0.58966565 0.59063625 0.55555556]\n"
     ]
    }
   ],
   "source": [
    "for i, history in enumerate(f1_vals_history_capsules):\n",
    "    sum_recall = history.sum(axis=1)\n",
    "    best_epoch = sum_recall.argmax()\n",
    "    print('Best validation performance found on epoch {} for training set {}'.format(best_epoch + 1, i + 1))\n",
    "    print('Epoch {} validation scores: {}'.format(best_epoch, history[best_epoch]))"
   ]
  },
  {
   "cell_type": "markdown",
   "metadata": {},
   "source": [
    "### Check the final (after 10 epochs) F1 scores for LSTM and Capsule models"
   ]
  },
  {
   "cell_type": "code",
   "execution_count": 700,
   "metadata": {},
   "outputs": [
    {
     "data": {
      "text/plain": [
       "[0.49079754601226994,\n",
       " 0.5063291139240506,\n",
       " 0.49147982062780277,\n",
       " 0.4896421845574388,\n",
       " 0.4911347517730497]"
      ]
     },
     "execution_count": 700,
     "metadata": {},
     "output_type": "execute_result"
    }
   ],
   "source": [
    "f1_scores_capsule"
   ]
  },
  {
   "cell_type": "code",
   "execution_count": 701,
   "metadata": {},
   "outputs": [
    {
     "data": {
      "text/plain": [
       "[0.5425425425425425,\n",
       " 0.5380710659898477,\n",
       " 0.5356415478615071,\n",
       " 0.5249734325185973,\n",
       " 0.5371312309257376]"
      ]
     },
     "execution_count": 701,
     "metadata": {},
     "output_type": "execute_result"
    }
   ],
   "source": [
    "f1_scores_lstm"
   ]
  },
  {
   "cell_type": "markdown",
   "metadata": {},
   "source": [
    "## Evaluate F1 score performance on our own test data with LSTM-only models"
   ]
  },
  {
   "cell_type": "code",
   "execution_count": 63,
   "metadata": {},
   "outputs": [],
   "source": [
    "df_test_y = df_test_own['target']\n",
    "df_test_own = df_test_own['question_text'].apply(lexicon_normalize)\n",
    "df_test_own = pre_process_data(df_test_own)"
   ]
  },
  {
   "cell_type": "code",
   "execution_count": 143,
   "metadata": {},
   "outputs": [
    {
     "name": "stdout",
     "output_type": "stream",
     "text": [
      "              precision    recall  f1-score   support\n",
      "\n",
      "     sincere       0.99      0.91      0.95     48922\n",
      "   insincere       0.39      0.88      0.55      3323\n",
      "\n",
      "   micro avg       0.91      0.91      0.91     52245\n",
      "   macro avg       0.69      0.90      0.75     52245\n",
      "weighted avg       0.95      0.91      0.92     52245\n",
      "\n",
      "Normalized confusion matrix\n"
     ]
    },
    {
     "data": {
      "text/plain": [
       "array([[0.90785332, 0.09214668],\n",
       "       [0.1152573 , 0.8847427 ]])"
      ]
     },
     "execution_count": 143,
     "metadata": {},
     "output_type": "execute_result"
    },
    {
     "data": {
      "image/png": "[encoded data removed]",
      "text/plain": [
       "<Figure size 432x288 with 2 Axes>"
      ]
     },
     "metadata": {
      "needs_background": "light"
     },
     "output_type": "display_data"
    }
   ],
   "source": [
    "test_preds = []\n",
    "for model in lstm_models:\n",
    "    test_pred = model.predict_classes(df_test_own)\n",
    "    test_pred = test_pred.reshape((test_pred.shape[0],))\n",
    "    test_preds.append(test_pred)\n",
    "m = stats.mode(test_preds)\n",
    "final_test_pred = m.mode[0]\n",
    "\n",
    "print(classification_report(df_test_y, final_test_pred, target_names=classes))\n",
    "cnf_matrix = confusion_matrix(df_test_y, final_test_pred)\n",
    "plot_confusion_matrix(cnf_matrix, classes, normalize=True)"
   ]
  },
  {
   "cell_type": "code",
   "execution_count": 144,
   "metadata": {},
   "outputs": [
    {
     "name": "stdout",
     "output_type": "stream",
     "text": [
      "Confusion matrix, without normalization\n"
     ]
    },
    {
     "data": {
      "text/plain": [
       "array([[44414,  4508],\n",
       "       [  383,  2940]])"
      ]
     },
     "execution_count": 144,
     "metadata": {},
     "output_type": "execute_result"
    },
    {
     "data": {
      "image/png": "[encoded data removed]",
      "text/plain": [
       "<Figure size 432x288 with 2 Axes>"
      ]
     },
     "metadata": {
      "needs_background": "light"
     },
     "output_type": "display_data"
    }
   ],
   "source": [
    "plot_confusion_matrix(cnf_matrix, classes, normalize=False)"
   ]
  },
  {
   "cell_type": "markdown",
   "metadata": {},
   "source": [
    "## Final F1 score with LSTM only model"
   ]
  },
  {
   "cell_type": "code",
   "execution_count": 66,
   "metadata": {},
   "outputs": [
    {
     "data": {
      "text/plain": [
       "0.5480406932931424"
      ]
     },
     "execution_count": 66,
     "metadata": {},
     "output_type": "execute_result"
    }
   ],
   "source": [
    "f1 = f1_score(df_test_y, final_test_pred)\n",
    "f1"
   ]
  },
  {
   "cell_type": "markdown",
   "metadata": {},
   "source": [
    "## Evaluate F1 score performance on our own test data with LSTM with Capsule models"
   ]
  },
  {
   "cell_type": "code",
   "execution_count": 140,
   "metadata": {},
   "outputs": [
    {
     "name": "stdout",
     "output_type": "stream",
     "text": [
      "              precision    recall  f1-score   support\n",
      "\n",
      "     sincere       0.99      0.91      0.95     48922\n",
      "   insincere       0.39      0.88      0.55      3323\n",
      "\n",
      "   micro avg       0.91      0.91      0.91     52245\n",
      "   macro avg       0.69      0.90      0.75     52245\n",
      "weighted avg       0.95      0.91      0.92     52245\n",
      "\n",
      "Normalized confusion matrix\n"
     ]
    },
    {
     "data": {
      "text/plain": [
       "array([[0.90785332, 0.09214668],\n",
       "       [0.1152573 , 0.8847427 ]])"
      ]
     },
     "execution_count": 140,
     "metadata": {},
     "output_type": "execute_result"
    },
    {
     "data": {
      "image/png": "[encoded data removed]",
      "text/plain": [
       "<Figure size 432x288 with 2 Axes>"
      ]
     },
     "metadata": {
      "needs_background": "light"
     },
     "output_type": "display_data"
    }
   ],
   "source": [
    "test_preds = []\n",
    "for model in capsule_models:\n",
    "    test_pred = model.predict_classes(df_test_own)\n",
    "    test_pred = test_pred.reshape((test_pred.shape[0],))\n",
    "    test_preds.append(test_pred)\n",
    "m = stats.mode(test_preds)\n",
    "final_test_pred = m.mode[0]\n",
    "\n",
    "print(classification_report(df_test_y, final_test_pred, target_names=classes))\n",
    "cnf_matrix = confusion_matrix(df_test_y, final_test_pred)\n",
    "plot_confusion_matrix(cnf_matrix, classes, normalize=True)"
   ]
  },
  {
   "cell_type": "code",
   "execution_count": 145,
   "metadata": {},
   "outputs": [
    {
     "name": "stdout",
     "output_type": "stream",
     "text": [
      "Confusion matrix, without normalization\n"
     ]
    },
    {
     "data": {
      "text/plain": [
       "array([[44414,  4508],\n",
       "       [  383,  2940]])"
      ]
     },
     "execution_count": 145,
     "metadata": {},
     "output_type": "execute_result"
    },
    {
     "data": {
      "image/png": "[encoded data removed]",
      "text/plain": [
       "<Figure size 432x288 with 2 Axes>"
      ]
     },
     "metadata": {
      "needs_background": "light"
     },
     "output_type": "display_data"
    }
   ],
   "source": [
    "plot_confusion_matrix(cnf_matrix, classes, normalize=False)"
   ]
  },
  {
   "cell_type": "markdown",
   "metadata": {},
   "source": [
    "## Final F1 score with LSTM with Capsule model\n"
   ]
  },
  {
   "cell_type": "code",
   "execution_count": 141,
   "metadata": {},
   "outputs": [
    {
     "data": {
      "text/plain": [
       "0.545910314734008"
      ]
     },
     "execution_count": 141,
     "metadata": {},
     "output_type": "execute_result"
    }
   ],
   "source": [
    "f1 = f1_score(df_test_y, final_test_pred)\n",
    "f1"
   ]
  },
  {
   "cell_type": "markdown",
   "metadata": {},
   "source": [
    "## Finally, prepare submission file for evaluating our models on Kaggle's actual test data"
   ]
  },
  {
   "cell_type": "code",
   "execution_count": 149,
   "metadata": {},
   "outputs": [],
   "source": [
    "df_test = d_test['question_text']"
   ]
  },
  {
   "cell_type": "code",
   "execution_count": 150,
   "metadata": {},
   "outputs": [],
   "source": [
    "df_test= df_test.apply(lexicon_normalize)"
   ]
  },
  {
   "cell_type": "code",
   "execution_count": 151,
   "metadata": {},
   "outputs": [],
   "source": [
    "df_test = pre_process_data(df_test)"
   ]
  },
  {
   "cell_type": "code",
   "execution_count": 152,
   "metadata": {},
   "outputs": [],
   "source": [
    "test_preds = []\n",
    "for model in capsule_models:\n",
    "    test_pred = model.predict_classes(df_test)\n",
    "    test_pred = test_pred.reshape((test_pred.shape[0],))\n",
    "    test_preds.append(test_pred)\n",
    "m = stats.mode(test_preds)\n",
    "final_kaggle_test_pred = m.mode[0]\n",
    "\n",
    "df_submission = pd.DataFrame({'qid': d_test.qid, 'prediction': final_kaggle_test_pred})\n",
    "df_submission.to_csv('submission.csv',header=True, index=False)"
   ]
  },
  {
   "cell_type": "code",
   "execution_count": null,
   "metadata": {},
   "outputs": [],
   "source": []
  }
 ],
 "metadata": {
  "kernelspec": {
   "display_name": "Python 3",
   "language": "python",
   "name": "python3"
  },
  "language_info": {
   "codemirror_mode": {
    "name": "ipython",
    "version": 3
   },
   "file_extension": ".py",
   "mimetype": "text/x-python",
   "name": "python",
   "nbconvert_exporter": "python",
   "pygments_lexer": "ipython3",
   "version": "3.6.6"
  }
 },
 "nbformat": 4,
 "nbformat_minor": 2
}
